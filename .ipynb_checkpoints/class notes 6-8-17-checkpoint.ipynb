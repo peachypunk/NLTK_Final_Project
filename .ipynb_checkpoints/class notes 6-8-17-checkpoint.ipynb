{
 "cells": [
  {
   "cell_type": "markdown",
   "metadata": {},
   "source": [
    "api = application programming interface\n",
    "\n",
    "allows you to access someone else's program\n",
    "\n",
    "thus a function you run by someone else can be considered an api\n",
    "usually api's are hooks to let you access something from within a bigger program or dataset\n",
    "\n",
    "api's keep you from doing 1000 searches through webscraping\n",
    "\n",
    "spotify has the most complicated api. but someone made a python package names spotipy that serves as a software development kit for those web calls "
   ]
  },
  {
   "cell_type": "markdown",
   "metadata": {},
   "source": [
    "make an interactive webpage that'll run python code"
   ]
  },
  {
   "cell_type": "code",
   "execution_count": 5,
   "metadata": {},
   "outputs": [],
   "source": [
    "from flask import Flask\n",
    "from flask_bootstrap import Bootstrap\n",
    "import numpy as np\n",
    "app = Flask(__name__)\n",
    "\n",
    "@app.route('/')\n",
    "def hell_world():\n",
    "    x = np.random.randint(0,10)\n",
    "    return 'Hello, World! This is reloading.' '+str(x)'"
   ]
  },
  {
   "cell_type": "code",
   "execution_count": null,
   "metadata": {
    "collapsed": true
   },
   "outputs": [],
   "source": [
    "getbootstrap.com has html style sheets to make your webpage look nice"
   ]
  },
  {
   "cell_type": "markdown",
   "metadata": {},
   "source": [
    "classes\n",
    "\n"
   ]
  }
 ],
 "metadata": {
  "kernelspec": {
   "display_name": "Python 3",
   "language": "python",
   "name": "python3"
  },
  "language_info": {
   "codemirror_mode": {
    "name": "ipython",
    "version": 3
   },
   "file_extension": ".py",
   "mimetype": "text/x-python",
   "name": "python",
   "nbconvert_exporter": "python",
   "pygments_lexer": "ipython3",
   "version": "3.6.0"
  }
 },
 "nbformat": 4,
 "nbformat_minor": 2
}
