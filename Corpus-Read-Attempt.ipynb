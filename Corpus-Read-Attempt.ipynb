{
 "cells": [
  {
   "cell_type": "markdown",
   "metadata": {},
   "source": [
    "# A Corpus Analysis of Clinton Vs. Trump in the 2016 Presidential debates"
   ]
  },
  {
   "cell_type": "markdown",
   "metadata": {},
   "source": [
    "@ Zoe Yang 290 Python\n",
    "\n",
    "**Potential questions for the final project:**\n",
    "\n",
    "Analysis of Narcissistic words\n",
    "\n",
    "Most frequent speech bigrams (e.g. \"you know?\"), you know?\n",
    "\n",
    "Sentiment polarity: negative, neutral, positive (output in decimals)\n",
    "Level of disgust, anger\n",
    "Singular first-person pronoun use (I, my me, mine, myself) -> may indicate self-centeredness\n",
    "\n"
   ]
  },
  {
   "cell_type": "code",
   "execution_count": 57,
   "metadata": {
    "collapsed": false
   },
   "outputs": [
    {
     "name": "stderr",
     "output_type": "stream",
     "text": [
      "/Users/Z/anaconda/lib/python3.6/site-packages/nltk/twitter/__init__.py:20: UserWarning: The twython library has not been installed. Some functionality from the twitter package will not be available.\n",
      "  warnings.warn(\"The twython library has not been installed. \"\n"
     ]
    }
   ],
   "source": [
    "#Import the packages\n",
    "import nltk\n",
    "import pickle\n",
    "\n",
    "\n",
    "from nltk.classify import NaiveBayesClassifier\n",
    "from nltk.corpus import subjectivity\n",
    "from nltk.sentiment import SentimentAnalyzer\n",
    "from nltk.sentiment.util import *"
   ]
  },
  {
   "cell_type": "code",
   "execution_count": 8,
   "metadata": {
    "collapsed": false
   },
   "outputs": [],
   "source": [
    "#check filepath\n",
    "#ls Clinton-Trump-Corpus/Trump"
   ]
  },
  {
   "cell_type": "markdown",
   "metadata": {},
   "source": [
    "Create a Trump and Clinton corpus from the annotated corpus files from the 2016 presidential candidate debates"
   ]
  },
  {
   "cell_type": "code",
   "execution_count": 9,
   "metadata": {
    "collapsed": false
   },
   "outputs": [],
   "source": [
    "trump_corpus = nltk.corpus.PlaintextCorpusReader('Clinton-Trump-Corpus/Trump/','Trump_.*.txt')\n"
   ]
  },
  {
   "cell_type": "code",
   "execution_count": 10,
   "metadata": {
    "collapsed": false
   },
   "outputs": [
    {
     "data": {
      "text/plain": [
       "82"
      ]
     },
     "execution_count": 10,
     "metadata": {},
     "output_type": "execute_result"
    }
   ],
   "source": [
    "#check to make sure that they are loaded in\n",
    "len(trump_corpus.fileids())"
   ]
  },
  {
   "cell_type": "code",
   "execution_count": 11,
   "metadata": {
    "collapsed": true
   },
   "outputs": [],
   "source": [
    "clinton_corpus = nltk.corpus.PlaintextCorpusReader('Clinton-Trump-Corpus/Clinton/','Clinton_.*.txt')"
   ]
  },
  {
   "cell_type": "code",
   "execution_count": 13,
   "metadata": {
    "collapsed": false
   },
   "outputs": [
    {
     "data": {
      "text/plain": [
       "82"
      ]
     },
     "execution_count": 13,
     "metadata": {},
     "output_type": "execute_result"
    }
   ],
   "source": [
    "#check to make sure that they are loaded in\n",
    "len(trump_corpus.fileids())"
   ]
  },
  {
   "cell_type": "markdown",
   "metadata": {},
   "source": [
    "Yay!!! The corpus files have been loaded."
   ]
  },
  {
   "cell_type": "code",
   "execution_count": 48,
   "metadata": {
    "collapsed": false
   },
   "outputs": [
    {
     "name": "stdout",
     "output_type": "stream",
     "text": [
      "Displaying 10 of 56 matches:\n",
      "hen you have a track record of violence all over the world . What the \n",
      "mn the hatred , oppression and violence of radical Islam lacks the mor\n",
      "as experiencing a reduction in violence . The group that would become \n",
      "ovides the breeding ground for violence and terrorism to grow . It ' s\n",
      "ave seen the reports of sexual violence and assault far greater than a\n",
      "icult times . < APPLAUSE > The violence , riots and destruction that h\n",
      "nyone . < APPLAUSE > Crime and violence is an attack on the poor and w\n",
      " summer we have seen a wave of violence inspired by radical Islamists \n",
      " hatred , the oppression , the violence of radical Islam lacks the mor\n",
      "h , by the way , was workplace violence and not terrorism . How many t\n"
     ]
    }
   ],
   "source": [
    "#Changes file type to be compatible with concordance\n",
    "\n",
    "trump_raw = trump_corpus.raw()\n",
    "trump_words = trump_corpus.words()\n",
    "trump_text = nltk.Text(trump_words)\n",
    "\n",
    "trump_text.concordance(\"violence\", 70, lines = 10)\n"
   ]
  },
  {
   "cell_type": "code",
   "execution_count": 49,
   "metadata": {
    "collapsed": false
   },
   "outputs": [
    {
     "name": "stdout",
     "output_type": "stream",
     "text": [
      "Displaying 10 of 17 matches:\n",
      ", mothers who lost children to violence and are building a movement to\n",
      "embers of people killed by gun violence , on this stage . You heard , \n",
      "d now , his casual inciting of violence . Every single one of these in\n",
      " . He has led the fight to end violence against women and girls . < AP\n",
      "hey talk to me a lot about gun violence . They talk to me a lot about \n",
      "nities and your homes from gun violence . I want to keep us safe from \n",
      "at home -- the epidemic of gun violence . And we have got to have comp\n",
      "back while the epidemic of gun violence ravages our communities and ou\n",
      " who ' ve lost children to gun violence or police incidents . They ' r\n",
      "l reminder of the harassment , violence and discrimination that too ma\n"
     ]
    }
   ],
   "source": [
    "\n",
    "clinton_raw = clinton_corpus.raw()\n",
    "clinton_words = clinton_corpus.words()\n",
    "clinton_text = nltk.Text(clinton_words)\n",
    "\n",
    "clinton_text.concordance(\"violence\", 70, lines = 10)"
   ]
  },
  {
   "cell_type": "code",
   "execution_count": 55,
   "metadata": {
    "collapsed": false
   },
   "outputs": [
    {
     "name": "stdout",
     "output_type": "stream",
     "text": [
      "it that you them me this and china what be do us applause people work\n",
      "america hillary there she happen\n",
      "None\n"
     ]
    }
   ],
   "source": [
    "\n",
    "\n",
    "print(trump_text.similar(\"Mexico\"))\n"
   ]
  },
  {
   "cell_type": "code",
   "execution_count": 56,
   "metadata": {
    "collapsed": false
   },
   "outputs": [
    {
     "name": "stdout",
     "output_type": "stream",
     "text": [
      "america the you it opportunity hers hillary democratic all that\n",
      "conversation in law us joy even work this president he\n",
      "None\n"
     ]
    }
   ],
   "source": [
    "print(clinton_text.similar(\"Mexico\"))"
   ]
  },
  {
   "cell_type": "code",
   "execution_count": null,
   "metadata": {
    "collapsed": true
   },
   "outputs": [],
   "source": []
  },
  {
   "cell_type": "markdown",
   "metadata": {},
   "source": [
    "# Corpus Citations##\n",
    "\n",
    "Brown, D. W. (2017) Clinton-Trump Corpus. Retrieved from http://www.thegrammarlab.com\n",
    "\n",
    "Brown, D. W. (2016) Corpus of Presidential Speeches. Retrieved from http://www.thegrammarlab.com\n"
   ]
  }
 ],
 "metadata": {
  "kernelspec": {
   "display_name": "Python 3",
   "language": "python",
   "name": "python3"
  },
  "language_info": {
   "codemirror_mode": {
    "name": "ipython",
    "version": 3
   },
   "file_extension": ".py",
   "mimetype": "text/x-python",
   "name": "python",
   "nbconvert_exporter": "python",
   "pygments_lexer": "ipython3",
   "version": "3.6.0"
  }
 },
 "nbformat": 4,
 "nbformat_minor": 2
}
